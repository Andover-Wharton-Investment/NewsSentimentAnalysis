{
 "cells": [
  {
   "cell_type": "code",
   "execution_count": 1,
   "metadata": {},
   "outputs": [],
   "source": [
    "# importing requests package\n",
    "import requests"
   ]
  },
  {
   "cell_type": "code",
   "execution_count": 16,
   "metadata": {},
   "outputs": [
    {
     "name": "stdout",
     "output_type": "stream",
     "text": [
      "1 Apple Music is now available on PS5\n",
      "2 Apple delays release of digital ID cards to 2022\n",
      "3 Apple TV+ is coming to Comcast devices\n",
      "4 Apple quietly discontinues the 21.5-inch iMac\n",
      "5 The best early Black Friday deals on Apple devices\n",
      "6 Apple fixes macOS Monterey flaw that bricked some T2 Macs\n",
      "7 The Pentagon Set Up a UFO Office\n",
      "8 Apple offers $30 million to settle off-the-clock bag search controversy\n",
      "9 Hackers Targeted Hong Kong Apple Devices in Widespread Attack\n",
      "10 Apple Finally Makes It Easier to Fix Your Own iPhone\n",
      "11 25 Best Black Friday Deals on Phones, Tablets, and Smartwatches\n",
      "12 Here are all of the Apple devices on sale for Black Friday\n",
      "13 Here Are All the Ways to 'Ping' a Lost iPhone\n",
      "14 Amazon releases Prime Video app for Mac with downloads, AirPlay, and more\n",
      "15 ‘Sideloading is a cyber criminal’s best friend,’ according to Apple’s software chief\n",
      "16 Apple’s app tracking policy reportedly cost social media platforms nearly $10 billion\n",
      "17 Apple's AirPods Max drop to a new low price of $430 at Amazon\n",
      "18 Another Apple Worker Says the Company Retaliated Against Her\n",
      "19 Apple lets devs promote in-app events on the App Store\n",
      "20 The Apple Watch Series 7 hits new low of $380 ahead of Black Friday\n"
     ]
    }
   ],
   "source": [
    "def NewsFromBBC():\n",
    "    # BBC news api\n",
    "    # following query parameters are used\n",
    "    # source, sortBy and apiKey\n",
    "    query_params = {\n",
    "        \"q\": \"Apple\",\n",
    "        \"sortBy\": \"top\",\n",
    "        \"apiKey\": \"159f70d8271c4f099a61526c485f9c79\"\n",
    "    }\n",
    "    main_url = \" https://newsapi.org/v2/everything\"\n",
    " \n",
    "    # fetching data in json format\n",
    "    res = requests.get(main_url, params=query_params)\n",
    "    # getting all articles in a string article\n",
    "    article = res.json()[\"articles\"]\n",
    " \n",
    "    # empty list which will\n",
    "    # contain all trending news\n",
    "    results = []\n",
    "    for ar in article:\n",
    "        results.append(ar[\"title\"])\n",
    "         \n",
    "    for i in range(len(results)):\n",
    "        # printing all trending news\n",
    "        print(i + 1, results[i])              \n",
    " \n",
    "# Driver Code\n",
    "if __name__ == '__main__':\n",
    "    # function call\n",
    "    NewsFromBBC()"
   ]
  },
  {
   "cell_type": "code",
   "execution_count": null,
   "metadata": {},
   "outputs": [],
   "source": []
  },
  {
   "cell_type": "code",
   "execution_count": null,
   "metadata": {},
   "outputs": [],
   "source": []
  }
 ],
 "metadata": {
  "interpreter": {
   "hash": "8ea83725a0d7e757f9aba8ea7bbb3168a22f298da9d6ed8cf70bc5ab2342cc11"
  },
  "kernelspec": {
   "display_name": "Python 3.9.7 64-bit ('ml-venv': venv)",
   "language": "python",
   "name": "python3"
  },
  "language_info": {
   "codemirror_mode": {
    "name": "ipython",
    "version": 3
   },
   "file_extension": ".py",
   "mimetype": "text/x-python",
   "name": "python",
   "nbconvert_exporter": "python",
   "pygments_lexer": "ipython3",
   "version": "3.9.7"
  },
  "orig_nbformat": 4
 },
 "nbformat": 4,
 "nbformat_minor": 2
}
