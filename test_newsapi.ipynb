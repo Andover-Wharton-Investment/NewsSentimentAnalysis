{
 "cells": [
  {
   "cell_type": "code",
   "execution_count": 1,
   "metadata": {},
   "outputs": [],
   "source": [
    "# importing requests package\n",
    "import requests"
   ]
  },
  {
   "cell_type": "code",
   "execution_count": 15,
   "metadata": {},
   "outputs": [
    {
     "name": "stdout",
     "output_type": "stream",
     "text": [
      "1 GitHub is down, affecting thousands of developers\n",
      "2 You can now, technically, build your own USB-C iPhone\n",
      "3 Microsoft's GitHub CEO Nat Friedman Is Stepping Down\n",
      "4 GitHub cambia de CEO, pero seguirá siendo independiente de Microsoft\n",
      "5 GitHub Fixes a Private-Package-Names Leak and Serious Authorization Bug\n",
      "6 GitHub's Annual Developer Survey Finds Remote Developers Aren't Returning to the Office\n",
      "7 GitHub Copilot available for JetBrains and Neovim\n",
      "8 DIY CNC Uses Lots of 3D-Printed Parts\n",
      "9 Según Github, el 90% de los desarrolladores quiere seguir trabajando en remoto\n",
      "10 Incredible Mod Turns the Game Boy Advance Into a Mini Switch With Joy-Con and Dock Support\n",
      "11 Flip-Chip KiCad Templates\n",
      "12 GitHub Codespaces Updates at Universe 2021\n",
      "13 GitHub – tzarc/djinn: Djinn Split Keyboard\n",
      "14 Shadershop – Photoshop like interface for programming GPU shaders\n",
      "15 Optick: C++ Profiler for Games\n",
      "16 PyTorch Fortran Bindings\n",
      "17 Declarative, non-intrusive, compile-time C++ reflection for audio plug-ins\n",
      "18 Clerk: Local-First Notebooks for Clojure\n",
      "19 Books.jl: Create Books with Julia\n",
      "20 Upcoming/proposed breaking changes to Haskell\n"
     ]
    }
   ],
   "source": [
    "def NewsFromBBC():\n",
    "    # BBC news api\n",
    "    # following query parameters are used\n",
    "    # source, sortBy and apiKey\n",
    "    query_params = {\n",
    "        \"q\": \"GitHub\",\n",
    "        \"sortBy\": \"top\",\n",
    "        \"apiKey\": \"159f70d8271c4f099a61526c485f9c79\"\n",
    "    }\n",
    "    main_url = \" https://newsapi.org/v2/everything\"\n",
    " \n",
    "    # fetching data in json format\n",
    "    res = requests.get(main_url, params=query_params)\n",
    "    # getting all articles in a string article\n",
    "    article = res.json()[\"articles\"]\n",
    " \n",
    "    # empty list which will\n",
    "    # contain all trending news\n",
    "    results = []\n",
    "    for ar in article:\n",
    "        results.append(ar[\"title\"])\n",
    "         \n",
    "    for i in range(len(results)):\n",
    "        # printing all trending news\n",
    "        print(i + 1, results[i])              \n",
    " \n",
    "# Driver Code\n",
    "if __name__ == '__main__':\n",
    "    # function call\n",
    "    NewsFromBBC()"
   ]
  },
  {
   "cell_type": "code",
   "execution_count": null,
   "metadata": {},
   "outputs": [],
   "source": []
  },
  {
   "cell_type": "code",
   "execution_count": null,
   "metadata": {},
   "outputs": [],
   "source": []
  }
 ],
 "metadata": {
  "interpreter": {
   "hash": "8ea83725a0d7e757f9aba8ea7bbb3168a22f298da9d6ed8cf70bc5ab2342cc11"
  },
  "kernelspec": {
   "display_name": "Python 3.9.7 64-bit ('ml-venv': venv)",
   "language": "python",
   "name": "python3"
  },
  "language_info": {
   "codemirror_mode": {
    "name": "ipython",
    "version": 3
   },
   "file_extension": ".py",
   "mimetype": "text/x-python",
   "name": "python",
   "nbconvert_exporter": "python",
   "pygments_lexer": "ipython3",
   "version": "3.9.7"
  },
  "orig_nbformat": 4
 },
 "nbformat": 4,
 "nbformat_minor": 2
}
